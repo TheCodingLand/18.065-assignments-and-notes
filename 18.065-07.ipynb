{
 "cells": [
  {
   "cell_type": "code",
   "execution_count": 91,
   "metadata": {},
   "outputs": [],
   "source": [
    "import numpy as np\n",
    "from sympy import init_printing, symbols, Matrix, Eq, Rational # Imporint only the\n",
    "from sympy.solvers import solve\n",
    "from IPython.core.display import HTML\n",
    "init_printing()"
   ]
  },
  {
   "cell_type": "markdown",
   "metadata": {},
   "source": [
    "### Section I.7"
   ]
  },
  {
   "cell_type": "markdown",
   "metadata": {},
   "source": [
    "### 1"
   ]
  },
  {
   "cell_type": "markdown",
   "metadata": {},
   "source": [
    "$$ S = \\left[\\begin{matrix}1 & b\\\\b & 9\\end{matrix}\\right]$$\n",
    "$$ S\\; is\\; Postive\\; definte\\; integral\\;  \\iff b^2 < 9 $$"
   ]
  },
  {
   "cell_type": "markdown",
   "metadata": {},
   "source": [
    "$$ S = \\left[\\begin{matrix}2 & 4\\\\4 & c\\end{matrix}\\right]$$\n",
    "$$ S\\; is\\; Postive\\; definte\\; integral\\;  \\iff c > 8 $$\n"
   ]
  },
  {
   "cell_type": "markdown",
   "metadata": {},
   "source": [
    "$$ S = \\left[\\begin{matrix}c & b\\\\b & c\\end{matrix}\\right]$$\n",
    "$$ S\\; is\\; Postive\\; definte\\; integral\\;  \\iff c^2 > b^2\\; \\& \\;c > 0 $$\n"
   ]
  },
  {
   "cell_type": "markdown",
   "metadata": {},
   "source": [
    "<hr style=\"border: 5px solid tomato\">"
   ]
  },
  {
   "cell_type": "markdown",
   "metadata": {},
   "source": [
    "\n",
    "\n",
    "$$\\begin{bmatrix} x_1 & x_2 & x_3 \\end{bmatrix}\n",
    "\\begin{bmatrix}  \\\\ & S & \\\\ \\\\ \\end{bmatrix}\n",
    "\\begin{bmatrix}  x_1 \\\\ x_2 \\\\ x_3 \\end{bmatrix} =\n",
    "4 \\left(x_{1} - x_{2} + 2 x_{3}\\right)^{2}\n",
    "$$\n"
   ]
  },
  {
   "cell_type": "code",
   "execution_count": 22,
   "metadata": {},
   "outputs": [
    {
     "data": {
      "image/png": "[encoded data removed]",
      "text/latex": [
       "$$4 x_{1}^{2} - 8 x_{1} x_{2} + 16 x_{1} x_{3} + 4 x_{2}^{2} - 16 x_{2} x_{3} + 16 x_{3}^{2}$$"
      ],
      "text/plain": [
       "    2                            2                   2\n",
       "4⋅x₁  - 8⋅x₁⋅x₂ + 16⋅x₁⋅x₃ + 4⋅x₂  - 16⋅x₂⋅x₃ + 16⋅x₃ "
      ]
     },
     "execution_count": 22,
     "metadata": {},
     "output_type": "execute_result"
    }
   ],
   "source": [
    "x1, x2, x3 =symbols('x_1 x_2 x_3')\n",
    "eq = 4*(x1 - x2 + 2*x3)**2\n",
    "eq.expand()"
   ]
  },
  {
   "cell_type": "markdown",
   "metadata": {},
   "source": [
    "\n",
    "\n",
    "$$\\begin{bmatrix} x_1 & x_2 & x_3 \\end{bmatrix}\n",
    "\\begin{bmatrix}  &  &   \\\\ & S & \\\\ \\\\ \\end{bmatrix}\n",
    "\\begin{bmatrix}  x_1 \\\\ x_2 \\\\ x_3 \\end{bmatrix} =\n",
    "4 \\left(x_{1} - x_{2} + 2 x_{3}\\right)^{2}\n",
    "$$\n"
   ]
  },
  {
   "cell_type": "code",
   "execution_count": 24,
   "metadata": {},
   "outputs": [
    {
     "data": {
      "text/latex": [
       "$$\\left[\\begin{matrix}4 & -8 & 0\\\\0 & 4 & 0\\\\16 & -16 & 16\\end{matrix}\\right]$$"
      ],
      "text/plain": [
       "⎡4   -8   0 ⎤\n",
       "⎢           ⎥\n",
       "⎢0    4   0 ⎥\n",
       "⎢           ⎥\n",
       "⎣16  -16  16⎦"
      ]
     },
     "execution_count": 24,
     "metadata": {},
     "output_type": "execute_result"
    }
   ],
   "source": [
    "S = Matrix([\n",
    "    [4, -8, 0],\n",
    "    [0, 4, 0],\n",
    "    [16, -16, 16]\n",
    "])\n",
    "S"
   ]
  },
  {
   "cell_type": "code",
   "execution_count": 50,
   "metadata": {},
   "outputs": [],
   "source": [
    "eq2 = Matrix([x1, x2, x3]).transpose() * S * Matrix([x1, x2, x3])\n",
    "eq2 = eq2[0]"
   ]
  },
  {
   "cell_type": "code",
   "execution_count": 52,
   "metadata": {},
   "outputs": [
    {
     "data": {
      "text/plain": [
       "True"
      ]
     },
     "execution_count": 52,
     "metadata": {},
     "output_type": "execute_result"
    }
   ],
   "source": [
    "eq2.expand() == eq.expand()"
   ]
  },
  {
   "cell_type": "markdown",
   "metadata": {},
   "source": [
    "$$S = \\left[\\begin{matrix}4 & -8 & 0\\\\0 & 4 & 0\\\\16 & -16 & 16\\end{matrix}\\right]$$"
   ]
  },
  {
   "cell_type": "markdown",
   "metadata": {},
   "source": [
    "$$\\left[\\begin{matrix}4 & -8 & 0\\\\0 & 4 & 0\\\\16 & -16 & 16\\end{matrix}\\right] \n",
    "-4R_1 + R_3 \\;|***|\\; -4R_2 + R3 >> \n",
    "\\left[\\begin{matrix}4 & -8 & 0\\\\0 & 4 & 0\\\\0 & 0 & 16\\end{matrix}\\right]$$"
   ]
  },
  {
   "cell_type": "markdown",
   "metadata": {},
   "source": [
    "$$ Pivots\\; = {4, 4, 16} $$"
   ]
  },
  {
   "cell_type": "code",
   "execution_count": 68,
   "metadata": {},
   "outputs": [
    {
     "data": {
      "image/png": "[encoded data removed]",
      "text/latex": [
       "$$3$$"
      ],
      "text/plain": [
       "3"
      ]
     },
     "execution_count": 68,
     "metadata": {},
     "output_type": "execute_result"
    }
   ],
   "source": [
    "S.rank()"
   ]
  },
  {
   "cell_type": "code",
   "execution_count": 69,
   "metadata": {},
   "outputs": [
    {
     "data": {
      "image/png": "[encoded data removed]",
      "text/latex": [
       "$$\\left [ 4, \\quad 16\\right ]$$"
      ],
      "text/plain": [
       "[4, 16]"
      ]
     },
     "execution_count": 69,
     "metadata": {},
     "output_type": "execute_result"
    }
   ],
   "source": [
    "# eigen Values\n",
    "Matrix(S.eigenvects())[:, 0][:]"
   ]
  },
  {
   "cell_type": "markdown",
   "metadata": {},
   "source": [
    "### Eigen Values"
   ]
  },
  {
   "cell_type": "markdown",
   "metadata": {},
   "source": [
    "$$\\left[\\begin{matrix}4-\\lambda & -8 & 0\\\\0 & 4-\\lambda & 0\\\\16 & -16 & 16-\\lambda\\end{matrix}\\right] =\n",
    "(4-\\lambda)[64 -20\\lambda + \\lambda^2]\n",
    "$$"
   ]
  },
  {
   "cell_type": "code",
   "execution_count": 92,
   "metadata": {},
   "outputs": [
    {
     "data": {
      "image/png": "[encoded data removed]",
      "text/latex": [
       "$$\\left(- \\lambda + 4\\right) \\left(\\lambda^{2} - 20 \\lambda + 64\\right) = 0$$"
      ],
      "text/plain": [
       "               ⎛       2                  ⎞    \n",
       "(-\\lambda + 4)⋅⎝\\lambda  - 20⋅\\lambda + 64⎠ = 0"
      ]
     },
     "execution_count": 92,
     "metadata": {},
     "output_type": "execute_result"
    }
   ],
   "source": [
    "lbd = symbols('\\lambda')\n",
    "eig_vals = Eq((4-lbd)*(64-20*lbd + lbd**2))\n",
    "eig_vals"
   ]
  },
  {
   "cell_type": "code",
   "execution_count": 93,
   "metadata": {},
   "outputs": [
    {
     "data": {
      "image/png": "[encoded data removed]",
      "text/latex": [
       "$$\\left [ 4, \\quad 16\\right ]$$"
      ],
      "text/plain": [
       "[4, 16]"
      ]
     },
     "execution_count": 93,
     "metadata": {},
     "output_type": "execute_result"
    }
   ],
   "source": [
    "solve(eig_vals)"
   ]
  },
  {
   "cell_type": "code",
   "execution_count": 69,
   "metadata": {},
   "outputs": [
    {
     "data": {
      "image/png": "[encoded data removed]",
      "text/latex": [
       "$$\\left [ 4, \\quad 16\\right ]$$"
      ],
      "text/plain": [
       "[4, 16]"
      ]
     },
     "execution_count": 69,
     "metadata": {},
     "output_type": "execute_result"
    }
   ],
   "source": [
    "# eigen Values\n",
    "Matrix(S.eigenvects())[:, 0][:]"
   ]
  },
  {
   "cell_type": "markdown",
   "metadata": {},
   "source": [
    "### Eigen Vectors"
   ]
  },
  {
   "cell_type": "code",
   "execution_count": 70,
   "metadata": {},
   "outputs": [
    {
     "data": {
      "text/latex": [
       "$$\\left [ \\left [ \\left[\\begin{matrix}- \\frac{3}{4}\\\\0\\\\1\\end{matrix}\\right]\\right ], \\quad \\left [ \\left[\\begin{matrix}0\\\\0\\\\1\\end{matrix}\\right]\\right ]\\right ]$$"
      ],
      "text/plain": [
       "⎡⎡⎡-3/4⎤⎤  ⎡⎡0⎤⎤⎤\n",
       "⎢⎢⎢    ⎥⎥  ⎢⎢ ⎥⎥⎥\n",
       "⎢⎢⎢ 0  ⎥⎥, ⎢⎢0⎥⎥⎥\n",
       "⎢⎢⎢    ⎥⎥  ⎢⎢ ⎥⎥⎥\n",
       "⎣⎣⎣ 1  ⎦⎦  ⎣⎣1⎦⎦⎦"
      ]
     },
     "execution_count": 70,
     "metadata": {},
     "output_type": "execute_result"
    }
   ],
   "source": [
    "## Eigen Vectors\n",
    "Matrix(S.eigenvects())[:, 2][:]"
   ]
  },
  {
   "cell_type": "code",
   "execution_count": 62,
   "metadata": {},
   "outputs": [
    {
     "data": {
      "image/png": "[encoded data removed]",
      "text/latex": [
       "$$256$$"
      ],
      "text/plain": [
       "256"
      ]
     },
     "execution_count": 62,
     "metadata": {},
     "output_type": "execute_result"
    }
   ],
   "source": [
    "S.det()"
   ]
  },
  {
   "cell_type": "markdown",
   "metadata": {},
   "source": [
    "<hr style=\"border: 5px solid tomato\">"
   ]
  },
  {
   "cell_type": "code",
   "execution_count": 94,
   "metadata": {},
   "outputs": [
    {
     "data": {
      "text/latex": [
       "$$\\left[\\begin{matrix}2 & 2 & 0\\\\2 & 5 & 3\\\\0 & 3 & 8\\end{matrix}\\right]$$"
      ],
      "text/plain": [
       "⎡2  2  0⎤\n",
       "⎢       ⎥\n",
       "⎢2  5  3⎥\n",
       "⎢       ⎥\n",
       "⎣0  3  8⎦"
      ]
     },
     "execution_count": 94,
     "metadata": {},
     "output_type": "execute_result"
    }
   ],
   "source": [
    "S = Matrix([\n",
    "    [2, 2, 0],\n",
    "    [2, 5, 3],\n",
    "    [0, 3, 8]\n",
    "])\n",
    "S"
   ]
  },
  {
   "cell_type": "markdown",
   "metadata": {},
   "source": [
    "$$\\left[\\begin{matrix}2 & 2 & 0\\\\2 & 5 & 3\\\\0 & 3 & 8\\end{matrix}\\right]\n",
    "-2R_1 + R_2 \\;|***|\\; -3R_2 + R_3 >> \n",
    "\\left[\\begin{matrix}2 & 2 & 0\\\\0 & 1 & 3\\\\0 & 0 & 2\\end{matrix}\\right]$$"
   ]
  },
  {
   "cell_type": "markdown",
   "metadata": {},
   "source": [
    "$$ 1^{st} pivot = det(1*1) =  2  $$\n",
    "$$ 2^{nd} pivot = \\frac{det(2*2)}{det(1*1)} = \\frac{2}{2} = 1$$\n",
    "\n",
    "$$ 3^{rd} pivot = \\frac{det(3*3)}{det(2*2)} = \\frac{4}{2} = 2$$"
   ]
  },
  {
   "cell_type": "markdown",
   "metadata": {},
   "source": [
    "<hr style=\"border: 5px solid tomato\">"
   ]
  }
 ],
 "metadata": {
  "kernelspec": {
   "display_name": "Python 3",
   "language": "python",
   "name": "python3"
  },
  "language_info": {
   "codemirror_mode": {
    "name": "ipython",
    "version": 3
   },
   "file_extension": ".py",
   "mimetype": "text/x-python",
   "name": "python",
   "nbconvert_exporter": "python",
   "pygments_lexer": "ipython3",
   "version": "3.7.1"
  }
 },
 "nbformat": 4,
 "nbformat_minor": 2
}
