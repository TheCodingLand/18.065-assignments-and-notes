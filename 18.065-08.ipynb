{
 "cells": [
  {
   "cell_type": "code",
   "execution_count": 1,
   "metadata": {},
   "outputs": [],
   "source": [
    "import numpy as np\n",
    "from sympy import init_printing, symbols, Matrix, Eq, Rational, root\n",
    "from IPython.core.display import HTML\n",
    "init_printing()"
   ]
  },
  {
   "cell_type": "markdown",
   "metadata": {},
   "source": [
    "### Section I.8"
   ]
  },
  {
   "cell_type": "markdown",
   "metadata": {},
   "source": [
    "### 1"
   ]
  },
  {
   "cell_type": "markdown",
   "metadata": {},
   "source": [
    "$$ X = c_1v_1 + c_2v_2 + ... + c_nv_n $$\n",
    "$$$$\n",
    "$$ X = \\left[\\begin{matrix}\\vdots & \\cdots & \\vdots \\\\v_1 & \\cdots & v_n\\\\ \\vdots & \\cdots & \\vdots\\end{matrix}\\right]\n",
    "\\left[\\begin{matrix}c_1 & \\cdots & \\vdots \\\\ \\vdots & \\ddots & \\vdots\\\\ \\vdots & \\cdots & c_n\\end{matrix}\\right]$$\n",
    "$$$$\n",
    "\n",
    "$$ X = V C$$\n",
    "$$$$\n",
    "$$ X^T X = (V C)^T(V C)$$\n",
    "$$$$\n",
    "$$ X^T X = C^T V^TV C$$\n",
    "$$$$\n",
    "$$ X^T X = C^T  C$$\n",
    "$$$$\n",
    "$$ X^T X =\n",
    "\\left[\\begin{matrix}c_1 & \\cdots & \\vdots \\\\ \\vdots & c_2 & \\vdots\\\\ \\vdots & \\cdots & c_n\\end{matrix}\\right]\n",
    "\\left[\\begin{matrix}c_1 & \\cdots & \\vdots \\\\ \\vdots & c_2 & \\vdots\\\\ \\vdots & \\cdots & c_n\\end{matrix}\\right]$$\n",
    "\n",
    "$$$$\n",
    "$$ X^T X = c_1^2 + c_2^2 + ... + c_n^2$$"
   ]
  },
  {
   "cell_type": "markdown",
   "metadata": {},
   "source": [
    "<hr style=\"border: 3px solid green\">"
   ]
  },
  {
   "cell_type": "markdown",
   "metadata": {},
   "source": [
    "### 2"
   ]
  },
  {
   "cell_type": "markdown",
   "metadata": {},
   "source": [
    "$$S = S^T$$\n",
    "$$$$\n",
    "$$X^T SX = X^T S VC$$\n",
    "$$$$\n",
    "$$Since$$\n",
    "$$$$\n",
    "$$S V = \\Lambda V$$\n",
    "$$$$\n",
    "$$Then$$\n",
    "$$$$\n",
    "$$X^T SX = X^T \\Lambda V C$$\n",
    "$$$$\n",
    "$$X^T SX = X^T \\Lambda X$$\n",
    "\n",
    "$$\n",
    "X^T SX = \n",
    "\\left[\\begin{matrix}\\cdots & x_1^T & \\cdots \\\\ \\cdots & \\vdots & \\cdots\\\\ \\cdots & x_n^T & \\cdots\\end{matrix}\\right]\n",
    "\\left[\\begin{matrix}\\lambda_1 & \\cdots & \\vdots \\\\ \\vdots & \\ddots & \\vdots\\\\ \\vdots & \\cdots & \\lambda_n\\end{matrix}\\right]\n",
    "\\left[\\begin{matrix}\\vdots & \\cdots & \\vdots \\\\x_1 & \\cdots & x_n\\\\ \\vdots & \\cdots & \\vdots\\end{matrix}\\right]\n",
    "$$\n",
    "\n",
    "$$ X^T SX = \\lambda_1x_1^Tx_1 + \\lambda_2x_2^Tx_2 + ... + \\lambda_nx_n^Tx_n $$\n",
    "$$$$\n",
    "$$ X^T SX = \\lambda_1c_1^2 + \\lambda_1c_2^2 + ... + \\lambda_1c_n^2 $$"
   ]
  },
  {
   "cell_type": "markdown",
   "metadata": {},
   "source": [
    "<hr style=\"border: 5px solid tomato\">"
   ]
  },
  {
   "cell_type": "markdown",
   "metadata": {},
   "source": [
    "$$ A = \\displaystyle \\left[\\begin{matrix}3 & 4\\\\0 & 5\\end{matrix}\\right] $$\n",
    "\n",
    "$$$$\n",
    "\n",
    "$$ A = U \\Sigma V^T $$\n",
    "$$$$\n",
    "$$ A^T A = V (\\Sigma^T \\Sigma) V^T $$\n",
    "$$$$\n",
    "$$ A A^T = U (\\Sigma \\Sigma^T)  U^T $$\n",
    "$$$$\n",
    "$$ Such\\; That $$\n",
    "$$$$\n",
    "$$ (\\Sigma \\Sigma^T)\\; is\\; the\\; Square\\; of\\; the\\; Eigen\\; values\\; $$"
   ]
  },
  {
   "cell_type": "code",
   "execution_count": 2,
   "metadata": {},
   "outputs": [],
   "source": [
    "A = Matrix([[3, 4],[0, 5]])\n",
    "T1 = A.transpose() * A"
   ]
  },
  {
   "cell_type": "code",
   "execution_count": 3,
   "metadata": {},
   "outputs": [
    {
     "data": {
      "image/png": "[encoded data removed]",
      "text/latex": [
       "$\\displaystyle \\left[ \\left( 5, \\  1, \\  \\left[ \\left[\\begin{matrix}-3\\\\1\\end{matrix}\\right]\\right]\\right), \\  \\left( 45, \\  1, \\  \\left[ \\left[\\begin{matrix}\\frac{1}{3}\\\\1\\end{matrix}\\right]\\right]\\right)\\right]$"
      ],
      "text/plain": [
       "⎡⎛      ⎡⎡-3⎤⎤⎞  ⎛       ⎡⎡1/3⎤⎤⎞⎤\n",
       "⎢⎜5, 1, ⎢⎢  ⎥⎥⎟, ⎜45, 1, ⎢⎢   ⎥⎥⎟⎥\n",
       "⎣⎝      ⎣⎣1 ⎦⎦⎠  ⎝       ⎣⎣ 1 ⎦⎦⎠⎦"
      ]
     },
     "execution_count": 3,
     "metadata": {},
     "output_type": "execute_result"
    }
   ],
   "source": [
    "T1.eigenvects()"
   ]
  },
  {
   "cell_type": "code",
   "execution_count": 4,
   "metadata": {},
   "outputs": [
    {
     "data": {
      "image/png": "[encoded data removed]",
      "text/latex": [
       "$\\displaystyle \\left[\\begin{matrix}-3 & \\frac{1}{3}\\\\1 & 1\\end{matrix}\\right]$"
      ],
      "text/plain": [
       "⎡-3  1/3⎤\n",
       "⎢       ⎥\n",
       "⎣1    1 ⎦"
      ]
     },
     "execution_count": 4,
     "metadata": {},
     "output_type": "execute_result"
    }
   ],
   "source": [
    "V = Matrix([[-3, Rational(1,3)],[1, 1]])\n",
    "V"
   ]
  },
  {
   "cell_type": "code",
   "execution_count": 5,
   "metadata": {},
   "outputs": [
    {
     "data": {
      "image/png": "[encoded data removed]",
      "text/latex": [
       "$\\displaystyle \\left[\\begin{matrix}- \\frac{3 \\sqrt{10}}{10} & \\frac{\\sqrt{10}}{10}\\\\\\frac{\\sqrt{10}}{10} & \\frac{3 \\sqrt{10}}{10}\\end{matrix}\\right]$"
      ],
      "text/plain": [
       "⎡-3⋅√10    √10 ⎤\n",
       "⎢───────   ─── ⎥\n",
       "⎢   10      10 ⎥\n",
       "⎢              ⎥\n",
       "⎢  √10    3⋅√10⎥\n",
       "⎢  ───    ─────⎥\n",
       "⎣   10      10 ⎦"
      ]
     },
     "execution_count": 5,
     "metadata": {},
     "output_type": "execute_result"
    }
   ],
   "source": [
    "## Normalized << ortho-normal >>\n",
    "V_norm = Matrix([\n",
    "    [-3 / root(10,2), root(10,2) / 10 ],\n",
    "    [1 / root(10,2), 3*root(10,2) / 10]\n",
    "])\n",
    "V_norm"
   ]
  },
  {
   "cell_type": "markdown",
   "metadata": {},
   "source": [
    "### $$ \\Sigma\\; is\\; the\\; Square\\; root\\; of\\; the\\; (\\Sigma \\Sigma^T)\\; or\\; (\\Sigma^T \\Sigma) $$\n",
    "$$ \\lambda_1, \\lambda_2 =  \\sqrt{5}, \\sqrt{45}  $$"
   ]
  },
  {
   "cell_type": "code",
   "execution_count": 6,
   "metadata": {},
   "outputs": [
    {
     "data": {
      "image/png": "[encoded data removed]",
      "text/latex": [
       "$\\displaystyle \\left[\\begin{matrix}\\sqrt{5} & 0\\\\0 & 3 \\sqrt{5}\\end{matrix}\\right]$"
      ],
      "text/plain": [
       "⎡√5   0  ⎤\n",
       "⎢        ⎥\n",
       "⎣0   3⋅√5⎦"
      ]
     },
     "execution_count": 6,
     "metadata": {},
     "output_type": "execute_result"
    }
   ],
   "source": [
    "LBD = Matrix([[root(5, 2), 0],[0, root(45, 2)]])\n",
    "LBD"
   ]
  },
  {
   "cell_type": "code",
   "execution_count": 7,
   "metadata": {},
   "outputs": [
    {
     "data": {
      "image/png": "[encoded data removed]",
      "text/latex": [
       "$\\displaystyle \\left[\\begin{matrix}25 & 20\\\\20 & 25\\end{matrix}\\right]$"
      ],
      "text/plain": [
       "⎡25  20⎤\n",
       "⎢      ⎥\n",
       "⎣20  25⎦"
      ]
     },
     "execution_count": 7,
     "metadata": {},
     "output_type": "execute_result"
    }
   ],
   "source": [
    "T2 = A * A.transpose()\n",
    "T2"
   ]
  },
  {
   "cell_type": "code",
   "execution_count": 8,
   "metadata": {},
   "outputs": [
    {
     "data": {
      "image/png": "[encoded data removed]",
      "text/latex": [
       "$\\displaystyle \\left[ \\left( 5, \\  1, \\  \\left[ \\left[\\begin{matrix}-1\\\\1\\end{matrix}\\right]\\right]\\right), \\  \\left( 45, \\  1, \\  \\left[ \\left[\\begin{matrix}1\\\\1\\end{matrix}\\right]\\right]\\right)\\right]$"
      ],
      "text/plain": [
       "⎡⎛      ⎡⎡-1⎤⎤⎞  ⎛       ⎡⎡1⎤⎤⎞⎤\n",
       "⎢⎜5, 1, ⎢⎢  ⎥⎥⎟, ⎜45, 1, ⎢⎢ ⎥⎥⎟⎥\n",
       "⎣⎝      ⎣⎣1 ⎦⎦⎠  ⎝       ⎣⎣1⎦⎦⎠⎦"
      ]
     },
     "execution_count": 8,
     "metadata": {},
     "output_type": "execute_result"
    }
   ],
   "source": [
    "T2.eigenvects()"
   ]
  },
  {
   "cell_type": "code",
   "execution_count": 9,
   "metadata": {},
   "outputs": [
    {
     "data": {
      "image/png": "[encoded data removed]",
      "text/latex": [
       "$\\displaystyle \\left[\\begin{matrix}- \\frac{\\sqrt{2}}{2} & \\frac{\\sqrt{2}}{2}\\\\\\frac{\\sqrt{2}}{2} & \\frac{\\sqrt{2}}{2}\\end{matrix}\\right]$"
      ],
      "text/plain": [
       "⎡-√2   √2⎤\n",
       "⎢────  ──⎥\n",
       "⎢ 2    2 ⎥\n",
       "⎢        ⎥\n",
       "⎢ √2   √2⎥\n",
       "⎢ ──   ──⎥\n",
       "⎣ 2    2 ⎦"
      ]
     },
     "execution_count": 9,
     "metadata": {},
     "output_type": "execute_result"
    }
   ],
   "source": [
    "## Normalized << ortho-normal >>\n",
    "U_norm = Matrix([\n",
    "    [-1/root(2, 2), 1/root(2, 2)],\n",
    "    [1/root(2, 2), 1/root(2, 2)],\n",
    "])\n",
    "U_norm"
   ]
  },
  {
   "cell_type": "code",
   "execution_count": 10,
   "metadata": {},
   "outputs": [
    {
     "data": {
      "image/png": "[encoded data removed]",
      "text/latex": [
       "$\\displaystyle \\left[\\begin{matrix}3 & 4\\\\0 & 5\\end{matrix}\\right]$"
      ],
      "text/plain": [
       "⎡3  4⎤\n",
       "⎢    ⎥\n",
       "⎣0  5⎦"
      ]
     },
     "execution_count": 10,
     "metadata": {},
     "output_type": "execute_result"
    }
   ],
   "source": [
    "A"
   ]
  },
  {
   "cell_type": "code",
   "execution_count": 11,
   "metadata": {},
   "outputs": [
    {
     "data": {
      "image/png": "[encoded data removed]",
      "text/latex": [
       "$\\displaystyle \\left[\\begin{matrix}3 & 4\\\\0 & 5\\end{matrix}\\right]$"
      ],
      "text/plain": [
       "⎡3  4⎤\n",
       "⎢    ⎥\n",
       "⎣0  5⎦"
      ]
     },
     "execution_count": 11,
     "metadata": {},
     "output_type": "execute_result"
    }
   ],
   "source": [
    "U_norm * LBD * V_norm.transpose()"
   ]
  },
  {
   "cell_type": "markdown",
   "metadata": {},
   "source": [
    "$$ \\Sigma =  \\displaystyle \\left[\\begin{matrix}\\sqrt{5} & 0\\\\0 & 3 \\sqrt{5}\\end{matrix}\\right]$$\n",
    "$$$$\n",
    "$$ V =  \\displaystyle \\left[\\begin{matrix}- \\frac{3 \\sqrt{10}}{10} & \\frac{\\sqrt{10}}{10}\\\\\\frac{\\sqrt{10}}{10} & \\frac{3 \\sqrt{10}}{10}\\end{matrix}\\right]$$\n",
    "$$$$\n",
    "$$ U =  \\displaystyle \\left[\\begin{matrix}- \\frac{\\sqrt{2}}{2} & \\frac{\\sqrt{2}}{2}\\\\\\frac{\\sqrt{2}}{2} & \\frac{\\sqrt{2}}{2}\\end{matrix}\\right]$$"
   ]
  },
  {
   "cell_type": "markdown",
   "metadata": {},
   "source": [
    "<hr style=\"border: 5px solid tomato\">"
   ]
  }
 ],
 "metadata": {
  "kernelspec": {
   "display_name": "Python 3",
   "language": "python",
   "name": "python3"
  },
  "language_info": {
   "codemirror_mode": {
    "name": "ipython",
    "version": 3
   },
   "file_extension": ".py",
   "mimetype": "text/x-python",
   "name": "python",
   "nbconvert_exporter": "python",
   "pygments_lexer": "ipython3",
   "version": "3.7.2"
  }
 },
 "nbformat": 4,
 "nbformat_minor": 2
}
