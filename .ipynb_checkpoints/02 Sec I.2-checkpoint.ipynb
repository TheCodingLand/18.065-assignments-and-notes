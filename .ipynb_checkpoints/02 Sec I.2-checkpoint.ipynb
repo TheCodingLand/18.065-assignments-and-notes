{
 "cells": [
  {
   "cell_type": "code",
   "execution_count": 5,
   "metadata": {},
   "outputs": [],
   "source": [
    "import numpy as np\n",
    "from sympy import init_printing, symbols, Matrix, Eq # Imporint only the\n",
    "from IPython.core.display import HTML\n",
    "init_printing()"
   ]
  },
  {
   "cell_type": "markdown",
   "metadata": {},
   "source": [
    "### Section I.2"
   ]
  },
  {
   "cell_type": "markdown",
   "metadata": {},
   "source": [
    "#### 1"
   ]
  },
  {
   "cell_type": "markdown",
   "metadata": {},
   "source": [
    "$$ aa^T = \\begin{bmatrix}a_1\\\\a_2\\\\ \\vdots\\\\a_n\\end{bmatrix}\\begin{bmatrix}a_1&a_2&\\cdots&a_n\\end{bmatrix} = \\begin{bmatrix}a_1^2&a_1a_2&\\cdots&a_1a_n \\\\ a_2a_1&a_2^2&\\cdots&a_2a_n \\\\ \\vdots&\\vdots&\\ddots&\\vdots \\\\ a_na_1&a_na_2&\\cdots&a_n^2\\end{bmatrix}.$$"
   ]
  },
  {
   "cell_type": "markdown",
   "metadata": {},
   "source": [
    "$$ aa^T = \\begin{bmatrix}a_1\\\\a_2\\\\ \\vdots\\\\a_n\\end{bmatrix}\\begin{bmatrix}a_1&a_2&\\cdots&a_n\\end{bmatrix} = \\begin{bmatrix}a_1^2&a_1a_2&\\cdots&a_1a_n \\\\ a_2a_1&a_2^2&\\cdots&a_2a_n \\\\ \\vdots&\\vdots&\\ddots&\\vdots \\\\ a_na_1&a_na_2&\\cdots&a_n^2\\end{bmatrix}.$$"
   ]
  },
  {
   "cell_type": "markdown",
   "metadata": {},
   "source": [
    "$$ a * b^T $$\n",
    "###  Yes can be multiplied  \n",
    "#### Shape : $$ (m *1)  (1 * p) = m * p$$\n"
   ]
  },
  {
   "cell_type": "markdown",
   "metadata": {},
   "source": [
    " $$  \\begin{bmatrix} a_1\\\\a_2\\\\ \\vdots \\\\ a_m \\end{bmatrix} * \\begin{bmatrix} b_1&b_2& \\cdots & b_p \\end{bmatrix} = \\begin{bmatrix} a_1b_1 & a_1b_2 & \\cdots & a_1b_p\\\\a_2b_1 & a_2b_2 & \\cdots & a_2b_p\\\\  \\vdots & \\vdots & \\ddots & \\vdots \\\\ a_mb_1 & a_mb_2 & \\cdots & a_mb_p \\end{bmatrix} $$"
   ]
  },
  {
   "cell_type": "markdown",
   "metadata": {},
   "source": [
    "### $$ row\\; i\\; and\\; column\\; j $$\n",
    "\n",
    "$$ a_ib_j$$"
   ]
  },
  {
   "cell_type": "markdown",
   "metadata": {},
   "source": [
    "### $$a * a^T$$"
   ]
  },
  {
   "cell_type": "markdown",
   "metadata": {},
   "source": [
    "$$ aa^T = \\begin{bmatrix}a_1\\\\a_2\\\\ \\vdots\\\\a_m\\end{bmatrix}\\begin{bmatrix}a_1&a_2&\\cdots&a_m\\end{bmatrix} = \\begin{bmatrix}a_1^2&a_1a_2&\\cdots&a_1a_m \\\\ a_2a_1&a_2^2&\\cdots&a_2a_m \\\\ \\vdots&\\vdots&\\ddots&\\vdots \\\\ a_ma_1&a_ma_2&\\cdots&a_m^2\\end{bmatrix}.$$"
   ]
  },
  {
   "cell_type": "markdown",
   "metadata": {},
   "source": [
    "#### Square Symmetric matrix\n",
    "#### $$ A  =  A^T$$\n",
    "#### Shape:  m * m \n",
    "#### rank = 1\n",
    "which implies that the \n",
    "  - pivot Columns = 1\n",
    "  - Null space = n - 1 $$N(aa^T) = n-1$$\n",
    "  - Columns are Linear dependent\n",
    "  - Matrix is Singular $$|aa^T| = 0$$\n",
    "  - Doesn't have inverse\n"
   ]
  },
  {
   "cell_type": "code",
   "execution_count": 2,
   "metadata": {},
   "outputs": [
    {
     "data": {
      "text/latex": [
       "$$\\left[\\begin{matrix}16 & 32 & 24\\\\32 & 64 & 48\\\\24 & 48 & 36\\end{matrix}\\right]$$"
      ],
      "text/plain": [
       "⎡16  32  24⎤\n",
       "⎢          ⎥\n",
       "⎢32  64  48⎥\n",
       "⎢          ⎥\n",
       "⎣24  48  36⎦"
      ]
     },
     "execution_count": 2,
     "metadata": {},
     "output_type": "execute_result"
    }
   ],
   "source": [
    "a = Matrix(np.random.randint(0,10,(3,1)))\n",
    "A = a*a.transpose()\n",
    "A"
   ]
  },
  {
   "cell_type": "code",
   "execution_count": 4,
   "metadata": {},
   "outputs": [
    {
     "data": {
      "image/png": "[encoded data removed]",
      "text/latex": [
       "$$0$$"
      ],
      "text/plain": [
       "0"
      ]
     },
     "execution_count": 4,
     "metadata": {},
     "output_type": "execute_result"
    }
   ],
   "source": [
    "A.det()"
   ]
  },
  {
   "cell_type": "markdown",
   "metadata": {},
   "source": [
    "#### $$ A  =  A^T$$"
   ]
  },
  {
   "cell_type": "code",
   "execution_count": 6,
   "metadata": {},
   "outputs": [
    {
     "data": {
      "text/latex": [
       "$$\\left[\\begin{matrix}16 & 32 & 24\\\\32 & 64 & 48\\\\24 & 48 & 36\\end{matrix}\\right]$$"
      ],
      "text/plain": [
       "⎡16  32  24⎤\n",
       "⎢          ⎥\n",
       "⎢32  64  48⎥\n",
       "⎢          ⎥\n",
       "⎣24  48  36⎦"
      ]
     },
     "execution_count": 6,
     "metadata": {},
     "output_type": "execute_result"
    }
   ],
   "source": [
    "A"
   ]
  },
  {
   "cell_type": "code",
   "execution_count": 7,
   "metadata": {},
   "outputs": [
    {
     "data": {
      "text/latex": [
       "$$\\left[\\begin{matrix}16 & 32 & 24\\\\32 & 64 & 48\\\\24 & 48 & 36\\end{matrix}\\right]$$"
      ],
      "text/plain": [
       "⎡16  32  24⎤\n",
       "⎢          ⎥\n",
       "⎢32  64  48⎥\n",
       "⎢          ⎥\n",
       "⎣24  48  36⎦"
      ]
     },
     "execution_count": 7,
     "metadata": {},
     "output_type": "execute_result"
    }
   ],
   "source": [
    "A.transpose()"
   ]
  },
  {
   "cell_type": "markdown",
   "metadata": {},
   "source": [
    "  - pivot Columns = 1\n",
    "  - Null space = n - 1 $$N(aa^T) = n-1$$\n"
   ]
  },
  {
   "cell_type": "code",
   "execution_count": 10,
   "metadata": {},
   "outputs": [
    {
     "data": {
      "text/latex": [
       "$$\\left [ \\left[\\begin{matrix}16\\\\32\\\\24\\end{matrix}\\right]\\right ]$$"
      ],
      "text/plain": [
       "⎡⎡16⎤⎤\n",
       "⎢⎢  ⎥⎥\n",
       "⎢⎢32⎥⎥\n",
       "⎢⎢  ⎥⎥\n",
       "⎣⎣24⎦⎦"
      ]
     },
     "execution_count": 10,
     "metadata": {},
     "output_type": "execute_result"
    }
   ],
   "source": [
    "A.columnspace()"
   ]
  },
  {
   "cell_type": "code",
   "execution_count": 12,
   "metadata": {},
   "outputs": [
    {
     "data": {
      "text/latex": [
       "$$\\left [ \\left[\\begin{matrix}-2\\\\1\\\\0\\end{matrix}\\right], \\quad \\left[\\begin{matrix}- \\frac{3}{2}\\\\0\\\\1\\end{matrix}\\right]\\right ]$$"
      ],
      "text/plain": [
       "⎡⎡-2⎤  ⎡-3/2⎤⎤\n",
       "⎢⎢  ⎥  ⎢    ⎥⎥\n",
       "⎢⎢1 ⎥, ⎢ 0  ⎥⎥\n",
       "⎢⎢  ⎥  ⎢    ⎥⎥\n",
       "⎣⎣0 ⎦  ⎣ 1  ⎦⎦"
      ]
     },
     "execution_count": 12,
     "metadata": {},
     "output_type": "execute_result"
    }
   ],
   "source": [
    "A.nullspace()"
   ]
  },
  {
   "cell_type": "markdown",
   "metadata": {},
   "source": [
    "  - Columns are Linear dependent\n",
    "  - Matrix is Singular $$|aa^T| = 0$$\n",
    "  - Doesn't have inverse\n"
   ]
  },
  {
   "cell_type": "code",
   "execution_count": 2,
   "metadata": {},
   "outputs": [
    {
     "data": {
      "text/latex": [
       "$$\\left[\\begin{matrix}16 & 32 & 24\\\\32 & 64 & 48\\\\24 & 48 & 36\\end{matrix}\\right]$$"
      ],
      "text/plain": [
       "⎡16  32  24⎤\n",
       "⎢          ⎥\n",
       "⎢32  64  48⎥\n",
       "⎢          ⎥\n",
       "⎣24  48  36⎦"
      ]
     },
     "execution_count": 2,
     "metadata": {},
     "output_type": "execute_result"
    }
   ],
   "source": [
    "a = Matrix(np.random.randint(0,10,(3,1)))\n",
    "A = a*a.transpose()\n",
    "A"
   ]
  },
  {
   "cell_type": "code",
   "execution_count": 4,
   "metadata": {},
   "outputs": [
    {
     "data": {
      "image/png": "[encoded data removed]",
      "text/latex": [
       "$$0$$"
      ],
      "text/plain": [
       "0"
      ]
     },
     "execution_count": 4,
     "metadata": {},
     "output_type": "execute_result"
    }
   ],
   "source": [
    "A.det()"
   ]
  },
  {
   "cell_type": "markdown",
   "metadata": {},
   "source": [
    "<hr style=\"border: 5px solid tomato\">"
   ]
  },
  {
   "cell_type": "markdown",
   "metadata": {},
   "source": [
    "#### 2"
   ]
  },
  {
   "cell_type": "markdown",
   "metadata": {},
   "source": [
    "$$ A =  \\begin{bmatrix} \\vdots  & \\vdots & \\vdots \\\\ a_1 & a_2 & a_3 \\\\ \\vdots  & \\vdots & \\vdots \\end{bmatrix}$$\n",
    "\n",
    "$$\n",
    "B = \\begin{bmatrix} 1  & 0 & 0 \\\\ 0 & 1 & 0 \\\\ 0 & 0 & 1 \\end{bmatrix}$$"
   ]
  },
  {
   "cell_type": "markdown",
   "metadata": {},
   "source": [
    "### $$ a_1 * b_1^*$$"
   ]
  },
  {
   "cell_type": "markdown",
   "metadata": {},
   "source": [
    " $$  \\begin{bmatrix} a_1\\\\a_2\\\\ \\vdots \\\\ a_m \\end{bmatrix} * \\begin{bmatrix} 1 &0 & 0 \\end{bmatrix} = \\begin{bmatrix} a_1 & 0 & 0\\\\a_2 & 0  & 0\\\\  \\vdots & \\vdots & \\vdots \\\\ a_m & 0 &  0 \\end{bmatrix} $$"
   ]
  },
  {
   "cell_type": "markdown",
   "metadata": {},
   "source": [
    "### $$ a_2 * b_2^*$$"
   ]
  },
  {
   "cell_type": "markdown",
   "metadata": {},
   "source": [
    " $$  \\begin{bmatrix} a_1\\\\a_2\\\\ \\vdots \\\\ a_m \\end{bmatrix} * \\begin{bmatrix} 0 &1 & 0 \\end{bmatrix} = \\begin{bmatrix} 0 & a_1 & 0\\\\0 & a_2  & 0\\\\  \\vdots & \\vdots & \\vdots \\\\ 0 & a_m &  0 \\end{bmatrix} $$"
   ]
  },
  {
   "cell_type": "markdown",
   "metadata": {},
   "source": [
    "### $$ a_3 * b_3^*$$"
   ]
  },
  {
   "cell_type": "markdown",
   "metadata": {},
   "source": [
    " $$  \\begin{bmatrix} a_1\\\\a_2\\\\ \\vdots \\\\ a_m \\end{bmatrix} * \\begin{bmatrix} 0 & 0 & 1 \\end{bmatrix} = \\begin{bmatrix} 0 & 0 & a_1\\\\0 & 0  & a_2\\\\  \\vdots & \\vdots & \\vdots \\\\ 0 & 0 &  a_m \\end{bmatrix} $$"
   ]
  },
  {
   "cell_type": "markdown",
   "metadata": {},
   "source": [
    "### $$ AI =  (a_1 * b_1^*) + (a_2 * b_2^*) + (a_3 * b_3^*)  = A$$"
   ]
  },
  {
   "cell_type": "markdown",
   "metadata": {},
   "source": [
    " $$ AI = \n",
    " \\begin{bmatrix} a_11 & 0 & 0\\\\a_21 & 0  & 0\\\\  \\vdots & \\vdots & \\vdots\\\\a_m1 & 0 &  0 \\end{bmatrix} +\n",
    " \\begin{bmatrix} 0 & a_12 & 0\\\\0 & a_22  & 0\\\\  \\vdots & \\vdots & \\vdots\\\\0 & a_m2 &  0 \\end{bmatrix} +\n",
    " \\begin{bmatrix} 0 & 0 & a_13\\\\0 & 0  & a_23\\\\ \\vdots & \\vdots & \\vdots \\\\ 0 & 0 & a_m3 \\end{bmatrix} = \n",
    " \\begin{bmatrix} a_11 & a_12 & a_13\\\\a_21 & a_22  & a_23\\\\  \\vdots & \\vdots & \\vdots \\\\ a_m1 & a_m2 &  a_m3 \\end{bmatrix} = A\n",
    " $$"
   ]
  },
  {
   "cell_type": "markdown",
   "metadata": {},
   "source": [
    "<hr style=\"border: 5px solid tomato\">"
   ]
  }
 ],
 "metadata": {
  "kernelspec": {
   "display_name": "Python 3",
   "language": "python",
   "name": "python3"
  },
  "language_info": {
   "codemirror_mode": {
    "name": "ipython",
    "version": 3
   },
   "file_extension": ".py",
   "mimetype": "text/x-python",
   "name": "python",
   "nbconvert_exporter": "python",
   "pygments_lexer": "ipython3",
   "version": "3.7.1"
  }
 },
 "nbformat": 4,
 "nbformat_minor": 2
}
